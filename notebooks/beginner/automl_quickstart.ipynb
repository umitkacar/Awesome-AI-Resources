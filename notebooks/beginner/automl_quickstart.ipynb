{
 "cells": [
  {
   "cell_type": "markdown",
   "metadata": {},
   "source": [
    "# AutoML Quick Start Guide\n",
    "\n",
    "[![Open In Colab](https://colab.research.google.com/assets/colab-badge.svg)](https://colab.research.google.com/github/umitkacar/Awesome-AI-Resources/blob/main/notebooks/beginner/automl_quickstart.ipynb)\n",
    "\n",
    "Learn how to use AutoML frameworks to build ML models without writing complex code."
   ]
  },
  {
   "cell_type": "markdown",
   "metadata": {},
   "source": [
    "## 1. Install Required Libraries\n",
    "\n",
    "We'll use AutoGluon for this tutorial - it's the easiest to start with."
   ]
  },
  {
   "cell_type": "code",
   "execution_count": null,
   "metadata": {},
   "outputs": [],
   "source": [
    "# Install AutoGluon\n",
    "!pip install -q autogluon"
   ]
  },
  {
   "cell_type": "markdown",
   "metadata": {},
   "source": [
    "## 2. Load Sample Dataset\n",
    "\n",
    "We'll use the Titanic dataset for classification."
   ]
  },
  {
   "cell_type": "code",
   "execution_count": null,
   "metadata": {},
   "outputs": [],
   "source": [
    "from autogluon.tabular import TabularDataset, TabularPredictor\n",
    "import pandas as pd\n",
    "\n",
    "# Load Titanic dataset\n",
    "train_data = TabularDataset('https://autogluon.s3.amazonaws.com/datasets/titanic/train.csv')\n",
    "test_data = TabularDataset('https://autogluon.s3.amazonaws.com/datasets/titanic/test.csv')\n",
    "\n",
    "# Preview the data\n",
    "print(\"Training data shape:\", train_data.shape)\n",
    "print(\"\\nFirst 5 rows:\")\n",
    "train_data.head()"
   ]
  },
  {
   "cell_type": "markdown",
   "metadata": {},
   "source": [
    "## 3. Train AutoML Model\n",
    "\n",
    "With just 3 lines of code!"
   ]
  },
  {
   "cell_type": "code",
   "execution_count": null,
   "metadata": {},
   "outputs": [],
   "source": [
    "# Define the target column\n",
    "label = 'survived'\n",
    "\n",
    "# Create and train the model\n",
    "predictor = TabularPredictor(label=label, eval_metric='accuracy')\n",
    "predictor.fit(train_data, time_limit=120)  # Train for 2 minutes"
   ]
  },
  {
   "cell_type": "markdown",
   "metadata": {},
   "source": [
    "## 4. Make Predictions"
   ]
  },
  {
   "cell_type": "code",
   "execution_count": null,
   "metadata": {},
   "outputs": [],
   "source": [
    "# Make predictions on test data\n",
    "y_pred = predictor.predict(test_data)\n",
    "print(\"Predictions:\")\n",
    "print(y_pred.head())\n",
    "\n",
    "# Get prediction probabilities\n",
    "y_pred_proba = predictor.predict_proba(test_data)\n",
    "print(\"\\nPrediction probabilities:\")\n",
    "print(y_pred_proba.head())"
   ]
  },
  {
   "cell_type": "markdown",
   "metadata": {},
   "source": [
    "## 5. Evaluate Model Performance"
   ]
  },
  {
   "cell_type": "code",
   "execution_count": null,
   "metadata": {},
   "outputs": [],
   "source": [
    "# Get model performance on validation set\n",
    "performance = predictor.evaluate(test_data)\n",
    "print(\"Model Performance:\")\n",
    "print(performance)"
   ]
  },
  {
   "cell_type": "markdown",
   "metadata": {},
   "source": [
    "## 6. Model Leaderboard\n",
    "\n",
    "See all models that AutoGluon trained and their performance."
   ]
  },
  {
   "cell_type": "code",
   "execution_count": null,
   "metadata": {},
   "outputs": [],
   "source": [
    "# Show leaderboard of all models\n",
    "leaderboard = predictor.leaderboard(test_data, silent=True)\n",
    "print(\"Model Leaderboard:\")\n",
    "leaderboard"
   ]
  },
  {
   "cell_type": "markdown",
   "metadata": {},
   "source": [
    "## 7. Feature Importance"
   ]
  },
  {
   "cell_type": "code",
   "execution_count": null,
   "metadata": {},
   "outputs": [],
   "source": [
    "# Get feature importance\n",
    "importance = predictor.feature_importance(test_data)\n",
    "print(\"Feature Importance:\")\n",
    "importance"
   ]
  },
  {
   "cell_type": "markdown",
   "metadata": {},
   "source": [
    "## 8. Try Different AutoML Frameworks\n",
    "\n",
    "Here's how to use other popular AutoML tools:"
   ]
  },
  {
   "cell_type": "code",
   "execution_count": null,
   "metadata": {},
   "outputs": [],
   "source": [
    "# PyCaret Example\n",
    "# !pip install -q pycaret\n",
    "\n",
    "# from pycaret.classification import *\n",
    "# clf = setup(train_data, target='survived')\n",
    "# best_model = compare_models()\n",
    "# predictions = predict_model(best_model, data=test_data)"
   ]
  },
  {
   "cell_type": "code",
   "execution_count": null,
   "metadata": {},
   "outputs": [],
   "source": [
    "# H2O AutoML Example\n",
    "# !pip install -q h2o\n",
    "\n",
    "# import h2o\n",
    "# from h2o.automl import H2OAutoML\n",
    "# h2o.init()\n",
    "# aml = H2OAutoML(max_models=20, seed=1)\n",
    "# aml.train(y='survived', training_frame=train_h2o)"
   ]
  },
  {
   "cell_type": "markdown",
   "metadata": {},
   "source": [
    "## 🎯 Exercise: Try Your Own Dataset\n",
    "\n",
    "1. Upload your own CSV file to Colab\n",
    "2. Load it with `pd.read_csv()`\n",
    "3. Train an AutoML model\n",
    "4. Compare different frameworks\n",
    "\n",
    "## 📚 Next Steps\n",
    "\n",
    "- Explore [AutoML Frameworks Guide](https://github.com/umitkacar/Awesome-AI-Resources/blob/main/AutoML/automl-frameworks.md)\n",
    "- Try image classification with AutoKeras\n",
    "- Learn about Neural Architecture Search\n",
    "- Join our community discussions"
   ]
  }
 ],
 "metadata": {
  "kernelspec": {
   "display_name": "Python 3",
   "language": "python",
   "name": "python3"
  },
  "language_info": {
   "codemirror_mode": {
    "name": "ipython",
    "version": 3
   },
   "file_extension": ".py",
   "mimetype": "text/x-python",
   "name": "python",
   "nbconvert_exporter": "python",
   "pygments_lexer": "ipython3",
   "version": "3.8.0"
  }
 },
 "nbformat": 4,
 "nbformat_minor": 4
}