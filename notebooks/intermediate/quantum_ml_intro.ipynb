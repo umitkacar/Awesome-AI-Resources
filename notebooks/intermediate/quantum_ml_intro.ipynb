{
 "cells": [
  {
   "cell_type": "markdown",
   "metadata": {},
   "source": [
    "# Quantum Machine Learning Introduction\n",
    "\n",
    "[![Open In Colab](https://colab.research.google.com/assets/colab-badge.svg)](https://colab.research.google.com/github/umitkacar/Awesome-AI-Resources/blob/main/notebooks/intermediate/quantum_ml_intro.ipynb)\n",
    "\n",
    "Learn the basics of Quantum Machine Learning with hands-on examples using Qiskit and PennyLane."
   ]
  },
  {
   "cell_type": "markdown",
   "metadata": {},
   "source": [
    "## 1. Install Quantum Libraries"
   ]
  },
  {
   "cell_type": "code",
   "execution_count": null,
   "metadata": {},
   "outputs": [],
   "source": [
    "# Install quantum computing libraries\n",
    "!pip install -q qiskit qiskit-machine-learning\n",
    "!pip install -q pennylane\n",
    "!pip install -q matplotlib numpy scikit-learn"
   ]
  },
  {
   "cell_type": "markdown",
   "metadata": {},
   "source": [
    "## 2. Quantum Basics: Creating a Bell State"
   ]
  },
  {
   "cell_type": "code",
   "execution_count": null,
   "metadata": {},
   "outputs": [],
   "source": [
    "from qiskit import QuantumCircuit, execute, Aer\n",
    "from qiskit.visualization import plot_histogram, plot_bloch_multivector\n",
    "import matplotlib.pyplot as plt\n",
    "\n",
    "# Create a quantum circuit with 2 qubits\n",
    "qc = QuantumCircuit(2, 2)\n",
    "\n",
    "# Create Bell state: |00⟩ + |11⟩\n",
    "qc.h(0)  # Hadamard gate on qubit 0\n",
    "qc.cx(0, 1)  # CNOT gate: control=0, target=1\n",
    "\n",
    "# Measure both qubits\n",
    "qc.measure([0, 1], [0, 1])\n",
    "\n",
    "# Visualize the circuit\n",
    "qc.draw('mpl')"
   ]
  },
  {
   "cell_type": "code",
   "execution_count": null,
   "metadata": {},
   "outputs": [],
   "source": [
    "# Execute the circuit\n",
    "backend = Aer.get_backend('qasm_simulator')\n",
    "job = execute(qc, backend, shots=1000)\n",
    "result = job.result()\n",
    "counts = result.get_counts(qc)\n",
    "\n",
    "# Plot results\n",
    "plot_histogram(counts)"
   ]
  },
  {
   "cell_type": "markdown",
   "metadata": {},
   "source": [
    "## 3. Variational Quantum Classifier (VQC)"
   ]
  },
  {
   "cell_type": "code",
   "execution_count": null,
   "metadata": {},
   "outputs": [],
   "source": [
    "import numpy as np\n",
    "from sklearn.datasets import make_moons\n",
    "from sklearn.model_selection import train_test_split\n",
    "from sklearn.preprocessing import StandardScaler\n",
    "\n",
    "# Generate dataset\n",
    "X, y = make_moons(n_samples=100, noise=0.1, random_state=42)\n",
    "X_train, X_test, y_train, y_test = train_test_split(X, y, test_size=0.3, random_state=42)\n",
    "\n",
    "# Scale features\n",
    "scaler = StandardScaler()\n",
    "X_train_scaled = scaler.fit_transform(X_train)\n",
    "X_test_scaled = scaler.transform(X_test)\n",
    "\n",
    "# Visualize data\n",
    "plt.scatter(X_train[:, 0], X_train[:, 1], c=y_train, cmap='viridis')\n",
    "plt.title('Moon Dataset')\n",
    "plt.show()"
   ]
  },
  {
   "cell_type": "code",
   "execution_count": null,
   "metadata": {},
   "outputs": [],
   "source": [
    "from qiskit.circuit.library import ZZFeatureMap, RealAmplitudes\n",
    "from qiskit_machine_learning.algorithms import VQC\n",
    "from qiskit.algorithms.optimizers import COBYLA\n",
    "\n",
    "# Create feature map\n",
    "feature_map = ZZFeatureMap(feature_dimension=2, reps=2)\n",
    "\n",
    "# Create ansatz (variational circuit)\n",
    "ansatz = RealAmplitudes(num_qubits=2, reps=3)\n",
    "\n",
    "# Create VQC\n",
    "vqc = VQC(\n",
    "    feature_map=feature_map,\n",
    "    ansatz=ansatz,\n",
    "    optimizer=COBYLA(maxiter=100),\n",
    "    quantum_instance=Aer.get_backend('qasm_simulator')\n",
    ")\n",
    "\n",
    "# Visualize the quantum circuit\n",
    "print(\"Feature Map:\")\n",
    "feature_map.decompose().draw('mpl', style='iqx')"
   ]
  },
  {
   "cell_type": "code",
   "execution_count": null,
   "metadata": {},
   "outputs": [],
   "source": [
    "# Train the quantum classifier\n",
    "print(\"Training Quantum Classifier...\")\n",
    "vqc.fit(X_train_scaled, y_train)\n",
    "\n",
    "# Make predictions\n",
    "y_pred = vqc.predict(X_test_scaled)\n",
    "\n",
    "# Calculate accuracy\n",
    "from sklearn.metrics import accuracy_score\n",
    "accuracy = accuracy_score(y_test, y_pred)\n",
    "print(f\"\\nAccuracy: {accuracy:.2%}\")"
   ]
  },
  {
   "cell_type": "markdown",
   "metadata": {},
   "source": [
    "## 4. Quantum Neural Network with PennyLane"
   ]
  },
  {
   "cell_type": "code",
   "execution_count": null,
   "metadata": {},
   "outputs": [],
   "source": [
    "import pennylane as qml\n",
    "import torch\n",
    "import torch.nn as nn\n",
    "\n",
    "# Create quantum device\n",
    "n_qubits = 4\n",
    "dev = qml.device('default.qubit', wires=n_qubits)\n",
    "\n",
    "@qml.qnode(dev)\n",
    "def quantum_circuit(inputs, weights):\n",
    "    # Encode inputs\n",
    "    for i in range(n_qubits):\n",
    "        qml.RY(inputs[i % len(inputs)], wires=i)\n",
    "    \n",
    "    # Variational layers\n",
    "    for layer in range(2):\n",
    "        for i in range(n_qubits):\n",
    "            qml.RY(weights[layer, i, 0], wires=i)\n",
    "            qml.RZ(weights[layer, i, 1], wires=i)\n",
    "        \n",
    "        # Entanglement\n",
    "        for i in range(n_qubits - 1):\n",
    "            qml.CNOT(wires=[i, i + 1])\n",
    "    \n",
    "    # Measure expectation values\n",
    "    return [qml.expval(qml.PauliZ(i)) for i in range(n_qubits)]"
   ]
  },
  {
   "cell_type": "code",
   "execution_count": null,
   "metadata": {},
   "outputs": [],
   "source": [
    "# Hybrid Classical-Quantum Model\n",
    "class HybridModel(nn.Module):\n",
    "    def __init__(self):\n",
    "        super().__init__()\n",
    "        self.classical_layer = nn.Linear(2, 4)\n",
    "        self.quantum_weights = nn.Parameter(torch.randn(2, 4, 2) * 0.1)\n",
    "        self.output_layer = nn.Linear(4, 1)\n",
    "    \n",
    "    def forward(self, x):\n",
    "        # Classical preprocessing\n",
    "        x = torch.tanh(self.classical_layer(x))\n",
    "        \n",
    "        # Quantum processing\n",
    "        batch_size = x.shape[0]\n",
    "        quantum_out = []\n",
    "        \n",
    "        for i in range(batch_size):\n",
    "            q_out = quantum_circuit(x[i], self.quantum_weights)\n",
    "            quantum_out.append(q_out)\n",
    "        \n",
    "        quantum_out = torch.tensor(quantum_out)\n",
    "        \n",
    "        # Classical postprocessing\n",
    "        output = torch.sigmoid(self.output_layer(quantum_out))\n",
    "        return output.squeeze()"
   ]
  },
  {
   "cell_type": "code",
   "execution_count": null,
   "metadata": {},
   "outputs": [],
   "source": [
    "# Convert data to PyTorch tensors\n",
    "X_train_torch = torch.FloatTensor(X_train_scaled)\n",
    "y_train_torch = torch.FloatTensor(y_train)\n",
    "X_test_torch = torch.FloatTensor(X_test_scaled)\n",
    "y_test_torch = torch.FloatTensor(y_test)\n",
    "\n",
    "# Create and train hybrid model\n",
    "model = HybridModel()\n",
    "optimizer = torch.optim.Adam(model.parameters(), lr=0.01)\n",
    "criterion = nn.BCELoss()\n",
    "\n",
    "# Training loop\n",
    "epochs = 50\n",
    "for epoch in range(epochs):\n",
    "    optimizer.zero_grad()\n",
    "    outputs = model(X_train_torch)\n",
    "    loss = criterion(outputs, y_train_torch)\n",
    "    loss.backward()\n",
    "    optimizer.step()\n",
    "    \n",
    "    if (epoch + 1) % 10 == 0:\n",
    "        print(f'Epoch [{epoch+1}/{epochs}], Loss: {loss.item():.4f}')"
   ]
  },
  {
   "cell_type": "markdown",
   "metadata": {},
   "source": [
    "## 5. Quantum Kernel Methods"
   ]
  },
  {
   "cell_type": "code",
   "execution_count": null,
   "metadata": {},
   "outputs": [],
   "source": [
    "from qiskit_machine_learning.kernels import QuantumKernel\n",
    "from sklearn.svm import SVC\n",
    "\n",
    "# Create quantum kernel\n",
    "quantum_kernel = QuantumKernel(\n",
    "    feature_map=feature_map,\n",
    "    quantum_instance=Aer.get_backend('statevector_simulator')\n",
    ")\n",
    "\n",
    "# Compute kernel matrix\n",
    "print(\"Computing quantum kernel matrix...\")\n",
    "kernel_matrix_train = quantum_kernel.evaluate(x_vec=X_train_scaled)\n",
    "kernel_matrix_test = quantum_kernel.evaluate(x_vec=X_test_scaled, y_vec=X_train_scaled)\n",
    "\n",
    "# Use quantum kernel with classical SVM\n",
    "qsvm = SVC(kernel='precomputed')\n",
    "qsvm.fit(kernel_matrix_train, y_train)\n",
    "\n",
    "# Predictions\n",
    "y_pred_qsvm = qsvm.predict(kernel_matrix_test)\n",
    "accuracy_qsvm = accuracy_score(y_test, y_pred_qsvm)\n",
    "print(f\"\\nQuantum SVM Accuracy: {accuracy_qsvm:.2%}\")"
   ]
  },
  {
   "cell_type": "markdown",
   "metadata": {},
   "source": [
    "## 6. Compare Classical vs Quantum Performance"
   ]
  },
  {
   "cell_type": "code",
   "execution_count": null,
   "metadata": {},
   "outputs": [],
   "source": [
    "from sklearn.svm import SVC\n",
    "from sklearn.neural_network import MLPClassifier\n",
    "\n",
    "# Classical SVM\n",
    "classical_svm = SVC(kernel='rbf')\n",
    "classical_svm.fit(X_train_scaled, y_train)\n",
    "classical_accuracy = classical_svm.score(X_test_scaled, y_test)\n",
    "\n",
    "# Classical Neural Network\n",
    "mlp = MLPClassifier(hidden_layer_sizes=(10, 10), max_iter=1000)\n",
    "mlp.fit(X_train_scaled, y_train)\n",
    "mlp_accuracy = mlp.score(X_test_scaled, y_test)\n",
    "\n",
    "# Results comparison\n",
    "results = {\n",
    "    'Classical SVM': classical_accuracy,\n",
    "    'Classical NN': mlp_accuracy,\n",
    "    'Quantum VQC': accuracy,\n",
    "    'Quantum Kernel SVM': accuracy_qsvm\n",
    "}\n",
    "\n",
    "# Visualize results\n",
    "plt.figure(figsize=(10, 6))\n",
    "plt.bar(results.keys(), results.values())\n",
    "plt.ylabel('Accuracy')\n",
    "plt.title('Classical vs Quantum Model Performance')\n",
    "plt.ylim(0, 1)\n",
    "for i, (name, acc) in enumerate(results.items()):\n",
    "    plt.text(i, acc + 0.01, f'{acc:.2%}', ha='center')\n",
    "plt.show()"
   ]
  },
  {
   "cell_type": "markdown",
   "metadata": {},
   "source": [
    "## 7. Quantum Advantage Analysis"
   ]
  },
  {
   "cell_type": "code",
   "execution_count": null,
   "metadata": {},
   "outputs": [],
   "source": [
    "# Dataset size analysis\n",
    "dataset_sizes = [20, 50, 100, 200, 500]\n",
    "quantum_times = []\n",
    "classical_times = []\n",
    "\n",
    "import time\n",
    "\n",
    "for size in dataset_sizes:\n",
    "    # Generate data\n",
    "    X, y = make_moons(n_samples=size, noise=0.1)\n",
    "    X_scaled = scaler.fit_transform(X)\n",
    "    \n",
    "    # Time quantum kernel\n",
    "    start = time.time()\n",
    "    kernel_matrix = quantum_kernel.evaluate(x_vec=X_scaled[:20])  # Limit for demo\n",
    "    quantum_time = time.time() - start\n",
    "    quantum_times.append(quantum_time)\n",
    "    \n",
    "    # Time classical SVM\n",
    "    start = time.time()\n",
    "    svm = SVC(kernel='rbf')\n",
    "    svm.fit(X_scaled[:20], y[:20])\n",
    "    classical_time = time.time() - start\n",
    "    classical_times.append(classical_time)\n",
    "\n",
    "# Plot scaling\n",
    "plt.figure(figsize=(10, 6))\n",
    "plt.plot(dataset_sizes, quantum_times, 'o-', label='Quantum', linewidth=2)\n",
    "plt.plot(dataset_sizes, classical_times, 's-', label='Classical', linewidth=2)\n",
    "plt.xlabel('Dataset Size')\n",
    "plt.ylabel('Time (seconds)')\n",
    "plt.title('Computational Time Scaling')\n",
    "plt.legend()\n",
    "plt.grid(True, alpha=0.3)\n",
    "plt.show()"
   ]
  },
  {
   "cell_type": "markdown",
   "metadata": {},
   "source": [
    "## 🎯 Exercises\n",
    "\n",
    "1. **Modify the VQC**: Try different feature maps (like `PauliFeatureMap`) and ansatzes\n",
    "2. **Quantum Data Encoding**: Implement amplitude encoding for higher dimensional data\n",
    "3. **QAOA Implementation**: Use QAOA to solve a simple optimization problem\n",
    "4. **Noise Simulation**: Add noise to the quantum circuits and analyze impact\n",
    "\n",
    "## 📚 Further Reading\n",
    "\n",
    "- [Quantum ML Basics](https://github.com/umitkacar/Awesome-AI-Resources/blob/main/QuantumML/quantum-ml-basics.md)\n",
    "- [Quantum Algorithms](https://github.com/umitkacar/Awesome-AI-Resources/blob/main/QuantumML/quantum-algorithms.md)\n",
    "- [QML Frameworks](https://github.com/umitkacar/Awesome-AI-Resources/blob/main/QuantumML/qml-frameworks.md)\n",
    "- [Qiskit Textbook](https://qiskit.org/textbook/)\n",
    "- [PennyLane Demos](https://pennylane.ai/qml/demonstrations.html)"
   ]
  }
 ],
 "metadata": {
  "kernelspec": {
   "display_name": "Python 3",
   "language": "python",
   "name": "python3"
  },
  "language_info": {
   "codemirror_mode": {
    "name": "ipython",
    "version": 3
   },
   "file_extension": ".py",
   "mimetype": "text/x-python",
   "name": "python",
   "nbconvert_exporter": "python",
   "pygments_lexer": "ipython3",
   "version": "3.8.0"
  }
 },
 "nbformat": 4,
 "nbformat_minor": 4
}